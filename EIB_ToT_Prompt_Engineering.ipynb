{
  "nbformat": 4,
  "nbformat_minor": 0,
  "metadata": {
    "colab": {
      "provenance": [],
      "authorship_tag": "ABX9TyOQ1s3I8au0ViK6fSupK6YI",
      "include_colab_link": true
    },
    "kernelspec": {
      "name": "python3",
      "display_name": "Python 3"
    },
    "language_info": {
      "name": "python"
    }
  },
  "cells": [
    {
      "cell_type": "markdown",
      "metadata": {
        "id": "view-in-github",
        "colab_type": "text"
      },
      "source": [
        "<a href=\"https://colab.research.google.com/github/canerskrc/ChatGPT_Popular_Prompts/blob/main/EIB_ToT_Prompt_Engineering.ipynb\" target=\"_parent\"><img src=\"https://colab.research.google.com/assets/colab-badge.svg\" alt=\"Open In Colab\"/></a>"
      ]
    },
    {
      "cell_type": "markdown",
      "source": [
        "1- Açık hedef verilmeli\n",
        "\n",
        "2- Bağlam ver\n",
        "\n",
        "3- Format belirle(isteğe bağlı )\n",
        "\n",
        "4- iyi ve kötü örnekleri sağlamak.\n",
        "\n",
        "5- Dil ve Ton Tanımla\n",
        "\n",
        "6- Sınırlama eklemek\n",
        "\n",
        "7- Role-playing\n",
        "\n",
        "Three of Thoughts Yöntemi ( ToT )\n",
        "\n",
        "- Problem tanımlanır\n",
        "\n",
        "- Modelden Birden Fazla Düşünce Dalı( thought Branches )\n",
        "\n",
        "- Her Dal İçin çok adımlı bir akıl yürütme ( sub-thoughts)\n",
        "\n",
        "- Her düşünce değerlendirilir. ( scoring / comparison )\n",
        "\n",
        "- En iyi dal seçilir.\n",
        "\n",
        "Prompt Örneği :\n",
        "\n",
        "Medikal cihaz ihracatı için Almanya, BAE ve Meksika arasında en uygun hedef pazarı belirlemek istiyoruz. Lütfen aşağıdaki yapıda düşünerek ilerle:\n",
        "\n",
        "- \"Adım 1 : Her ülke için ayrı ayrı düşün\"\n",
        "- Pazar büyüklüğü\n",
        "- İthalat düzenlemeleri( CE zorunluluğu gibi )\n",
        "- Gümrük vergileri ve lojistik maliyetleri\n",
        "- Hedef hasta grubu potansiyeli\n",
        "-Riskler ( politik, finansal, düzenleyici )\n",
        "\n",
        "Adım 2: Her ülke için artı/eksi tablosu oluştur.\n",
        "Adım 3: Kendi iç değerlendirme notunu ( 1-10) ver ve nedenini açıkla\n",
        "Adım 4 : En uygun ülkeyi seç ama neden diğerlerini elediğini de belirt."
      ],
      "metadata": {
        "id": "PWg6JjfKDUn4"
      }
    },
    {
      "cell_type": "code",
      "execution_count": null,
      "metadata": {
        "id": "70ZfFgBrDUHo"
      },
      "outputs": [],
      "source": []
    }
  ]
}